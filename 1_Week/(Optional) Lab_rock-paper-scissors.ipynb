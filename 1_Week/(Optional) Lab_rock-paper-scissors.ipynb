{
 "cells": [
  {
   "cell_type": "markdown",
   "metadata": {},
   "source": [
    "<img src=\"https://bit.ly/2VnXWr2\" width=\"100\" align=\"left\">"
   ]
  },
  {
   "cell_type": "markdown",
   "metadata": {},
   "source": [
    "# Rock, Paper & Scissors\n",
    "\n",
    "Let's play the famous game against our computer. You can check the rules [here](https://en.wikipedia.org/wiki/Rock%E2%80%93paper%E2%80%93scissors). \n",
    "\n",
    "## Task\n",
    "Create a program that imitates the playability of the well known game of rock, paper, scissors. Follow the guidelines provided.\n",
    "\n",
    "## Tools\n",
    "1. Loop: **for/while**\n",
    "2. Functions: **input(), print()...**\n",
    "3. Conditional statements: **if, elif, else**\n",
    "4. Definition of functions. Modular programming\n",
    "5. Import modules\n",
    "\n",
    "- **To solve this challenge, the use of functions is recommended.**\n",
    "- <b>Hint: You dont need necessarily to follow the instructions in this notebook to solve the tasks. simply just get the job done effeciently ;) \n",
    "\n",
    "#### 1. Import the choice function of the random module."
   ]
  },
  {
   "cell_type": "code",
   "execution_count": 214,
   "metadata": {},
   "outputs": [],
   "source": [
    "import random\n",
    "\n",
    "#random.choice(sequence)"
   ]
  },
  {
   "cell_type": "markdown",
   "metadata": {},
   "source": [
    "#### 2. Create a list that includes the 3 possible gesture options of the game: 'rock', 'paper' or 'scissors'. Store the list in a variable called `gestures`."
   ]
  },
  {
   "cell_type": "code",
   "execution_count": 241,
   "metadata": {},
   "outputs": [],
   "source": [
    "gestures = [\"rock\", \"paper\", \"scissors\"]"
   ]
  },
  {
   "cell_type": "markdown",
   "metadata": {},
   "source": [
    "#### 3. Create a variable called `n_rounds` to store the maximum number of rounds to play in a game. \n",
    "Remember that the number of rounds must be odd: 1, 3, 5, ..."
   ]
  },
  {
   "cell_type": "code",
   "execution_count": 216,
   "metadata": {},
   "outputs": [],
   "source": [
    "def fun_n_rounds(rounds):\n",
    "    global n_rounds\n",
    "    n_rounds = input(\"How many times do you want to play?*It should be an even number.\")\n",
    "    if ((int(n_rounds)%2))!= 0:\n",
    "        print(n_rounds)\n",
    "    else:\n",
    "        print(\"Remender it has to be an even number! \")\n",
    "    \n",
    "    return n_rounds \n",
    "        "
   ]
  },
  {
   "cell_type": "code",
   "execution_count": 257,
   "metadata": {},
   "outputs": [
    {
     "name": "stdout",
     "output_type": "stream",
     "text": [
      "How many times do you want to play?*It should be an even number.5\n",
      "5\n",
      "5\n"
     ]
    }
   ],
   "source": [
    "fun_n_rounds(n_rounds)\n",
    "print(n_rounds)"
   ]
  },
  {
   "cell_type": "markdown",
   "metadata": {},
   "source": [
    "#### 4. Create a variable called `rounds_to_win` to store the number of rounds that a player must win to win the game.\n",
    "**Hint**: the value stored in `rounds_to_win` depends on the value of `n_rounds`. "
   ]
  },
  {
   "cell_type": "code",
   "execution_count": 218,
   "metadata": {},
   "outputs": [],
   "source": [
    "import math\n",
    "#rounds_to_win = round_up(((int(n_rounds))/2),0)\n",
    "#print(rounds_to_win)"
   ]
  },
  {
   "cell_type": "markdown",
   "metadata": {},
   "source": [
    "#### 5. Create two variables to store the number of rounds that the computer and the player have won. Call these variables `cpu_score` and `player_score`."
   ]
  },
  {
   "cell_type": "code",
   "execution_count": 219,
   "metadata": {},
   "outputs": [],
   "source": [
    "cpu_score = []\n",
    "player_score = []"
   ]
  },
  {
   "cell_type": "markdown",
   "metadata": {},
   "source": [
    "#### 6. Define a function that randomly returns one of the 3 gesture options.\n",
    "You will use this function to simulate the gesture choice of the computer. "
   ]
  },
  {
   "cell_type": "code",
   "execution_count": 239,
   "metadata": {},
   "outputs": [],
   "source": [
    "def cpu_choice(x):\n",
    "    return random.choice(x)\n"
   ]
  },
  {
   "cell_type": "code",
   "execution_count": 230,
   "metadata": {},
   "outputs": [
    {
     "data": {
      "text/plain": [
       "'rock'"
      ]
     },
     "execution_count": 230,
     "metadata": {},
     "output_type": "execute_result"
    }
   ],
   "source": [
    "cpu_choice(gestures)"
   ]
  },
  {
   "cell_type": "markdown",
   "metadata": {},
   "source": [
    "#### 7. Define a function that asks the player which is the gesture he or she wants to show: 'rock', 'paper' or 'scissors'.\n",
    "The player should only be allowed to choose one of the 3 gesture options. If the player's choice is not rock, paper or scissors, keep asking until it is."
   ]
  },
  {
   "cell_type": "code",
   "execution_count": 242,
   "metadata": {},
   "outputs": [],
   "source": [
    "def player_choice(x):\n",
    "    player_choice = input(\"Please choose rock, paper or scissors .\")\n",
    "    if player_choice in x: \n",
    "        print(player_choice)\n",
    "    \n",
    "    else:\n",
    "        print(f\"You have to choose between rock, paper or scissors. \")\n",
    "    \n",
    "    return player_choice"
   ]
  },
  {
   "cell_type": "code",
   "execution_count": 243,
   "metadata": {
    "scrolled": true
   },
   "outputs": [
    {
     "name": "stdout",
     "output_type": "stream",
     "text": [
      "Please choose rock, paper or scissors .rock\n",
      "rock\n"
     ]
    },
    {
     "data": {
      "text/plain": [
       "'rock'"
      ]
     },
     "execution_count": 243,
     "metadata": {},
     "output_type": "execute_result"
    }
   ],
   "source": [
    "gestures = [\"rock\", \"paper\", \"scissors\"]\n",
    "player_choice(gestures)"
   ]
  },
  {
   "cell_type": "markdown",
   "metadata": {},
   "source": [
    "#### 8. Define a function that checks who won a round. \n",
    "The function should return 0 if there is a tie, 1 if the computer wins and 2 if the player wins."
   ]
  },
  {
   "cell_type": "markdown",
   "metadata": {},
   "source": [
    "TENTATIVA: \n",
    "\n",
    "def round_winner (fun_n_rounds, cpu_choice, player_choice):\n",
    "    cpu_wins = 0\n",
    "    player_wins = 0\n",
    "    for i in range(int(n_rounds)):\n",
    "        if player_choice == \"rock\":\n",
    "            if cpu_choice == \"scissors\":\n",
    "                player_wins += 1\n",
    "            else:\n",
    "                cpu_wins += 1\n",
    "        elif player_choice ==\"scissors\":\n",
    "            if cpu_choise == \"paper\":\n",
    "                player_wins += 1\n",
    "            else:\n",
    "                cpu_wins += 1\n",
    "        elif player_choice ==\"paper\":\n",
    "            if cpu_choise == \"rock\":\n",
    "                player_wins += 1\n",
    "            else:\n",
    "                cpu_wins += 1\n",
    "\n",
    "    if player_wins > cpu_wins:\n",
    "        print(\"2\")\n",
    "    elif cpu_wins > player_wins:\n",
    "        print(\"1\")\n",
    "    else: \n",
    "        print(\"0\")\n",
    "        \n",
    "        return round_winner\n"
   ]
  },
  {
   "cell_type": "code",
   "execution_count": 263,
   "metadata": {},
   "outputs": [
    {
     "name": "stdout",
     "output_type": "stream",
     "text": [
      "0\n"
     ]
    },
    {
     "data": {
      "text/plain": [
       "<function __main__.round_winner(fun_n_rounds, cpu_choice, player_choice)>"
      ]
     },
     "execution_count": 263,
     "metadata": {},
     "output_type": "execute_result"
    }
   ],
   "source": [
    "round_winner(fun_n_rounds, cpu_choice, player_choice) "
   ]
  },
  {
   "cell_type": "markdown",
   "metadata": {},
   "source": [
    "teste:\n",
    "for i in range(int(n_rounds))\n",
    "        if player_choice = cpu_choice:\n",
    "            print(\"0\")\n",
    "        elif player_choice = \"rock\":\n",
    "            if cpu_choice = \"scissors\"\n",
    "                print(\"2\")\n",
    "                player_score += 1\n",
    "            else:\n",
    "                print(\"1\")\n",
    "                cpu_score += 1\n",
    "        elif player_choice =\"scissors\":\n",
    "            if cpu_choise = \"paper\"\n",
    "                print(\"2\")\n",
    "                player_score += 1\n",
    "            else:\n",
    "                print(\"1\")\n",
    "                cpu_score += 1\n",
    "        elif player_choice =\"paper\":\n",
    "            if cpu_choise = \"rock\"\n",
    "                print(\"2\")\n",
    "                player_score += 1\n",
    "            else:\n",
    "                print(\"1\")\n",
    "                cpu_score += 1\n",
    "\n",
    "if player_score > cpu_score:\n",
    "    print(\"2\")\n",
    "elif cpu_score > player_score:\n",
    "    print(\"1\")\n",
    "else: \n",
    "    print(\"0\")"
   ]
  },
  {
   "cell_type": "markdown",
   "metadata": {},
   "source": [
    "#### 9. Define a function that prints the choice of the computer, the choice of the player and a message that announces who won the current round. \n",
    "You should also use this function to update the variables that count the number of rounds that the computer and the player have won. The score of the winner increases by one point. If there is a tie, the score does not increase."
   ]
  },
  {
   "cell_type": "code",
   "execution_count": null,
   "metadata": {},
   "outputs": [],
   "source": [
    "def results(cpu_choice,player_choice,round_winner):\n",
    "    print(\"Computer choise: \" + stg(cpu_choice))\n",
    "    print(\"Your choise: \" + stg(player_choise))\n",
    "    print(\"Round winner: \" + stg(round_winner))\n",
    "    return results"
   ]
  },
  {
   "cell_type": "code",
   "execution_count": 225,
   "metadata": {},
   "outputs": [
    {
     "ename": "NameError",
     "evalue": "name 'stg' is not defined",
     "output_type": "error",
     "traceback": [
      "\u001b[0;31m---------------------------------------------------------------------------\u001b[0m",
      "\u001b[0;31mNameError\u001b[0m                                 Traceback (most recent call last)",
      "Input \u001b[0;32mIn [225]\u001b[0m, in \u001b[0;36m<cell line: 1>\u001b[0;34m()\u001b[0m\n\u001b[0;32m----> 1\u001b[0m \u001b[43mresults\u001b[49m\u001b[43m \u001b[49m\u001b[43m(\u001b[49m\u001b[43mcpu_choice\u001b[49m\u001b[43m,\u001b[49m\u001b[43mplayer_choice\u001b[49m\u001b[43m,\u001b[49m\u001b[43mround_winner\u001b[49m\u001b[43m)\u001b[49m\n",
      "Input \u001b[0;32mIn [143]\u001b[0m, in \u001b[0;36mresults\u001b[0;34m(cpu_choice, player_choice, round_winner)\u001b[0m\n\u001b[1;32m      1\u001b[0m \u001b[38;5;28;01mdef\u001b[39;00m \u001b[38;5;21mresults\u001b[39m(cpu_choice,player_choice,round_winner):\n\u001b[0;32m----> 2\u001b[0m     \u001b[38;5;28mprint\u001b[39m(\u001b[38;5;124m\"\u001b[39m\u001b[38;5;124mComputer choise: \u001b[39m\u001b[38;5;124m\"\u001b[39m \u001b[38;5;241m+\u001b[39m \u001b[43mstg\u001b[49m(cpu_choice))\n\u001b[1;32m      3\u001b[0m     \u001b[38;5;28mprint\u001b[39m(\u001b[38;5;124m\"\u001b[39m\u001b[38;5;124mYour choise: \u001b[39m\u001b[38;5;124m\"\u001b[39m \u001b[38;5;241m+\u001b[39m stg(player_choise))\n\u001b[1;32m      4\u001b[0m     \u001b[38;5;28mprint\u001b[39m(\u001b[38;5;124m\"\u001b[39m\u001b[38;5;124mRound winner: \u001b[39m\u001b[38;5;124m\"\u001b[39m \u001b[38;5;241m+\u001b[39m stg(round_winner))\n",
      "\u001b[0;31mNameError\u001b[0m: name 'stg' is not defined"
     ]
    }
   ],
   "source": [
    "results (cpu_choice,player_choice,round_winner)"
   ]
  },
  {
   "cell_type": "markdown",
   "metadata": {},
   "source": [
    "#### 10. Now it's time to code the execution of the game using the functions and variables you defined above. \n",
    "\n",
    "First, create a loop structure that repeats while no player reaches the minimum score necessary to win and the number of rounds is less than the maximum number of rounds to play in a game.  \n",
    "\n",
    "Inside the loop, use the functions and variables above to create the execution of a round: ask for the player's choice, generate the random choice of the computer, show the round results, update the scores, etc. "
   ]
  },
  {
   "cell_type": "code",
   "execution_count": null,
   "metadata": {},
   "outputs": [
    {
     "name": "stdout",
     "output_type": "stream",
     "text": [
      "Enter a choice (rock, paper, scissors): paper\n",
      "\n",
      "You chose paper, computer chose rock.\n",
      "\n",
      "Paper covers rock! You win!\n",
      "Play again? (y/n): y\n",
      "Enter a choice (rock, paper, scissors): paper\n",
      "\n",
      "You chose paper, computer chose paper.\n",
      "\n",
      "Both players selected paper. It's a tie!\n",
      "Play again? (y/n): y\n"
     ]
    }
   ],
   "source": [
    "while True:\n",
    "    user_action = input(\"Enter a choice (rock, paper, scissors): \")\n",
    "    possible_actions = [\"rock\", \"paper\", \"scissors\"]\n",
    "    computer_action = random.choice(possible_actions)\n",
    "    print(f\"\\nYou chose {user_action}, computer chose {computer_action}.\\n\")\n",
    "    if user_action == computer_action:\n",
    "        print(f\"Both players selected {user_action}. It's a tie!\")\n",
    "    elif user_action == \"rock\":\n",
    "        if computer_action == \"scissors\":\n",
    "            print(\"Rock smashes scissors! You win!\")\n",
    "        else:\n",
    "            print(\"Paper covers rock! You lose.\")\n",
    "    elif user_action == \"paper\":\n",
    "        if computer_action == \"rock\":\n",
    "            print(\"Paper covers rock! You win!\")\n",
    "        else:\n",
    "            print(\"Scissors cuts paper! You lose.\")\n",
    "    elif user_action == \"scissors\":\n",
    "        if computer_action == \"paper\":\n",
    "            print(\"Scissors cuts paper! You win!\")\n",
    "        else:\n",
    "            print(\"Rock smashes scissors! You lose.\")\n",
    "    play_again = input(\"Play again? (y/n): \")\n",
    "    if play_again.lower() != \"y\":\n",
    "        break"
   ]
  },
  {
   "cell_type": "code",
   "execution_count": 280,
   "metadata": {},
   "outputs": [
    {
     "name": "stdout",
     "output_type": "stream",
     "text": [
      "How many rounds you want to play? Introduce an odd number1\n",
      "Enter one of these choices: rock, paper, scissors?paper\n",
      "you lose\n",
      "Player score 0\n",
      "CPU Score 1\n",
      "Rounds Played 1\n",
      "The current winner is computer\n"
     ]
    }
   ],
   "source": [
    "import random\n",
    "gestures = [\"rock\", \"paper\", \"scissors\"]\n",
    "\n",
    "def rounds_to_win():\n",
    "    while True:\n",
    "        rounds_to_win = input(\"How many rounds you want to play? Introduce an odd number\")\n",
    "        if int(rounds_to_win) %2 != 0:\n",
    "            break\n",
    "        else:\n",
    "            print('please input odd number')\n",
    "    return int(rounds_to_win)\n",
    "\n",
    "#rounds_to_win()\n",
    "\n",
    "\n",
    "computer_action = random.choice(gestures)\n",
    "player_score=0\n",
    "cpu_score=0\n",
    "\n",
    "def cpu_choice(gestures):\n",
    "    return random.choice(gestures)\n",
    "\n",
    "def player_choice(gestures):\n",
    "    while True:\n",
    "        players_choice = input(\"Enter one of these choices: rock, paper, scissors?\")\n",
    "        if players_choice not in gestures:\n",
    "            print('input not valid')\n",
    "        else:\n",
    "            break\n",
    "    return players_choice\n",
    "\n",
    "#player_choice(gestures)\n",
    "\n",
    "def main_loop(gestures):\n",
    "    player_score=0\n",
    "    cpu_score=0\n",
    "    rounds_played=0\n",
    "    for i in range(rounds_to_win()):\n",
    "        rounds_played+=1\n",
    "        if player_choice(gestures) == cpu_choice(gestures):\n",
    "            print('you win')\n",
    "            player_score+=1\n",
    "        else:\n",
    "            print('you lose')\n",
    "            cpu_score+=1\n",
    "    print(f'Player score {player_score}\\nCPU Score {cpu_score}\\nRounds Played {rounds_played}')\n",
    "\n",
    "main_loop(gestures)\n",
    "\n",
    "if player_score > cpu_score:\n",
    "    print(\"The current winner is player\")\n",
    "else:\n",
    "    print (\"The current winner is computer\")"
   ]
  },
  {
   "cell_type": "raw",
   "metadata": {},
   "source": [
    "#### 11. Print the winner of the game based on who won more rounds.\n",
    "Remember that the game might be tied. "
   ]
  },
  {
   "cell_type": "code",
   "execution_count": null,
   "metadata": {},
   "outputs": [],
   "source": []
  },
  {
   "cell_type": "markdown",
   "metadata": {},
   "source": [
    "# (Optional) Rock, Paper, Scissors, Lizard & Spock\n",
    "![](images/rpsls.jpg)\n",
    "\n",
    "In this challenge, you need to improve the previous game by adding two new options. To know more about the rules of the improved version of rock, paper, scissors, check this [link](http://www.samkass.com/theories/RPSSL.html). \n",
    "\n",
    "In addition, you will also need to improve how the game interacts with the player: the number of rounds to play, which must be an odd number, will be requested to the user until a valid number is entered. Define a new function to make that request.\n",
    "\n",
    "**Hint**: Try to reuse the code that you already coded in the previous challenge. If your code is efficient, this bonus will only consist of simple modifications to the original game."
   ]
  },
  {
   "cell_type": "code",
   "execution_count": null,
   "metadata": {},
   "outputs": [],
   "source": []
  }
 ],
 "metadata": {
  "kernelspec": {
   "display_name": "Python 3 (ipykernel)",
   "language": "python",
   "name": "python3"
  },
  "language_info": {
   "codemirror_mode": {
    "name": "ipython",
    "version": 3
   },
   "file_extension": ".py",
   "mimetype": "text/x-python",
   "name": "python",
   "nbconvert_exporter": "python",
   "pygments_lexer": "ipython3",
   "version": "3.9.12"
  },
  "toc": {
   "base_numbering": 1,
   "nav_menu": {},
   "number_sections": true,
   "sideBar": true,
   "skip_h1_title": false,
   "title_cell": "Table of Contents",
   "title_sidebar": "Contents",
   "toc_cell": false,
   "toc_position": {},
   "toc_section_display": true,
   "toc_window_display": false
  }
 },
 "nbformat": 4,
 "nbformat_minor": 2
}
