{
 "cells": [
  {
   "cell_type": "code",
   "execution_count": 3,
   "id": "025677ef",
   "metadata": {},
   "outputs": [
    {
     "ename": "SyntaxError",
     "evalue": "invalid syntax (3311257295.py, line 7)",
     "output_type": "error",
     "traceback": [
      "\u001b[0;36m  File \u001b[0;32m\"/var/folders/bf/g804lyk11mzbcbq0_z_x2qlc0000gn/T/ipykernel_43583/3311257295.py\"\u001b[0;36m, line \u001b[0;32m7\u001b[0m\n\u001b[0;31m    from spotipy.oauth2\u001b[0m\n\u001b[0m                        ^\u001b[0m\n\u001b[0;31mSyntaxError\u001b[0m\u001b[0;31m:\u001b[0m invalid syntax\n"
     ]
    }
   ],
   "source": [
    "import pandas as pd\n",
    "from time import sleep\n",
    "from random import randint\n",
    "import config\n",
    "import spotipy     #to ease the access to the Spotify library (for developers)\n",
    "import json\n",
    "from spotipy.oauth2 \n",
    "import SpotifyClientCredentials "
   ]
  },
  {
   "cell_type": "code",
   "execution_count": 2,
   "id": "0ec2cdf9",
   "metadata": {},
   "outputs": [
    {
     "ename": "NameError",
     "evalue": "name 'spotipy' is not defined",
     "output_type": "error",
     "traceback": [
      "\u001b[0;31m---------------------------------------------------------------------------\u001b[0m",
      "\u001b[0;31mNameError\u001b[0m                                 Traceback (most recent call last)",
      "\u001b[0;32m/var/folders/bf/g804lyk11mzbcbq0_z_x2qlc0000gn/T/ipykernel_43583/2879480561.py\u001b[0m in \u001b[0;36m<module>\u001b[0;34m\u001b[0m\n\u001b[0;32m----> 1\u001b[0;31m sp = spotipy.Spotify(auth_manager=SpotifyClientCredentials(client_id= config.client_id,\n\u001b[0m\u001b[1;32m      2\u001b[0m                                                            client_secret= config.client_secret))\n",
      "\u001b[0;31mNameError\u001b[0m: name 'spotipy' is not defined"
     ]
    }
   ],
   "source": [
    "sp = spotipy.Spotify(auth_manager=SpotifyClientCredentials(client_id= config.client_id,\n",
    "                                                           client_secret= config.client_secret))"
   ]
  },
  {
   "cell_type": "code",
   "execution_count": null,
   "id": "ec033fb7",
   "metadata": {},
   "outputs": [],
   "source": []
  }
 ],
 "metadata": {
  "kernelspec": {
   "display_name": "Python 3 (ipykernel)",
   "language": "python",
   "name": "python3"
  },
  "language_info": {
   "codemirror_mode": {
    "name": "ipython",
    "version": 3
   },
   "file_extension": ".py",
   "mimetype": "text/x-python",
   "name": "python",
   "nbconvert_exporter": "python",
   "pygments_lexer": "ipython3",
   "version": "3.9.13"
  }
 },
 "nbformat": 4,
 "nbformat_minor": 5
}
