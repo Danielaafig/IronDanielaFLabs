{
 "cells": [
  {
   "cell_type": "code",
   "execution_count": null,
   "id": "4688e9f2",
   "metadata": {},
   "outputs": [],
   "source": [
    "# 1. import libraries\n",
    "from bs4 import BeautifulSoup\n",
    "import requests\n",
    "import pandas as pd\n",
    "\n",
    "## installing required libraries. You can simply install packages using conda directly from Jupyter notebook. However, \n",
    "## it is recommended to use Terminal as a standard way to install python packages.\n",
    "\n",
    "import sys\n",
    "!conda install --yes --prefix {sys.prefix} -c anaconda beautifulsoup4\n",
    "!conda install --yes --prefix {sys.prefix} -c anaconda requests"
   ]
  },
  {
   "cell_type": "code",
   "execution_count": null,
   "id": "41b351dc",
   "metadata": {},
   "outputs": [],
   "source": [
    "# 2. url: we start with the 'second' page\n",
    "url= \"https://www.billboard.com/charts/hot-100/\""
   ]
  },
  {
   "cell_type": "code",
   "execution_count": null,
   "id": "c219bb33",
   "metadata": {},
   "outputs": [],
   "source": [
    "# 3. download html with a get request\n",
    "response = requests.get(url)\n",
    "response.status_code # 200 status code means OK!"
   ]
  },
  {
   "cell_type": "code",
   "execution_count": null,
   "id": "fcad1d20",
   "metadata": {},
   "outputs": [],
   "source": [
    "# 4.1. parse html (create the 'soup')\n",
    "soup = BeautifulSoup(response.content, \"html.parser\")\n",
    "# 4.2. check that the html code looks like it should\n",
    "soup"
   ]
  },
  {
   "cell_type": "code",
   "execution_count": null,
   "id": "c5ea5302",
   "metadata": {},
   "outputs": [],
   "source": [
    "# 5. retrieve/extract the desired info (here, you'll paste the \"Selector\" you copied before to get the element that belongs to the top movie)\n",
    "\n",
    "soup.select(\"#title-of-a-story\")"
   ]
  },
  {
   "cell_type": "code",
   "execution_count": null,
   "id": "ac25877a",
   "metadata": {},
   "outputs": [],
   "source": [
    "soup.select(\".c-title\")[0].get_text(strip=True)\n"
   ]
  },
  {
   "cell_type": "code",
   "execution_count": null,
   "id": "01805652",
   "metadata": {},
   "outputs": [],
   "source": [
    "soup.select(\".c-label.a-no-trucate\")[0].get_text(strip=True)"
   ]
  },
  {
   "cell_type": "code",
   "execution_count": null,
   "id": "e58d1da7",
   "metadata": {},
   "outputs": [],
   "source": [
    "soup.select(\".c-title.a-no-trucate\")"
   ]
  },
  {
   "cell_type": "code",
   "execution_count": null,
   "id": "c91c7086",
   "metadata": {},
   "outputs": [],
   "source": [
    "#initialize empty lists\n",
    "songs = []\n",
    "artists= []"
   ]
  },
  {
   "cell_type": "code",
   "execution_count": null,
   "id": "1764f707",
   "metadata": {},
   "outputs": [],
   "source": [
    "# define the number of iterations of our for loop \n",
    "# by checking how many elements are in the retrieved result set\n",
    "# (this is equivalent but more robust than just explicitly defining 250 iterations)\n",
    "num_iter = len(soup.select(\".c-title.a-no-trucate\"))\n",
    "num_iter"
   ]
  },
  {
   "cell_type": "code",
   "execution_count": null,
   "id": "f7468f55",
   "metadata": {},
   "outputs": [],
   "source": [
    "# iterate through the result set and retrive all the data\n",
    "for i in range(num_iter):\n",
    "    songs.append(soup.select(\".c-title.a-no-trucate\")[i].get_text(strip=True)) ## getting movies titles\n",
    "    artists.append(soup.select(\".c-label.a-no-trucate\")[i].get_text(strip=True)) ## getting dir and actors names\n",
    "   "
   ]
  },
  {
   "cell_type": "code",
   "execution_count": null,
   "id": "5f8e81d9",
   "metadata": {},
   "outputs": [],
   "source": [
    "songs_lower= list(map(lambda x: x.lower(),songs))\n",
    "songs_lower"
   ]
  },
  {
   "cell_type": "code",
   "execution_count": null,
   "id": "6c7c299d",
   "metadata": {},
   "outputs": [],
   "source": [
    "artists"
   ]
  },
  {
   "cell_type": "code",
   "execution_count": null,
   "id": "2cf78974",
   "metadata": {},
   "outputs": [],
   "source": [
    "# each list becomes a column\n",
    "hot_100 = pd.DataFrame({\"songs\":songs,\n",
    "                       \"artists\":artists\n",
    "                      })\n",
    "\n",
    "hot_100.head(100)"
   ]
  },
  {
   "cell_type": "code",
   "execution_count": null,
   "id": "93afdedc",
   "metadata": {},
   "outputs": [],
   "source": [
    "#2o Day"
   ]
  },
  {
   "cell_type": "code",
   "execution_count": null,
   "id": "bbb7e934",
   "metadata": {},
   "outputs": [],
   "source": [
    "#user_song = input() # input a song you like\n",
    "\n",
    "import random"
   ]
  },
  {
   "cell_type": "code",
   "execution_count": null,
   "id": "492caf88",
   "metadata": {},
   "outputs": [],
   "source": [
    "song(user_song)"
   ]
  },
  {
   "cell_type": "code",
   "execution_count": null,
   "id": "7dceb27c",
   "metadata": {},
   "outputs": [],
   "source": [
    "import difflib\n",
    "x = difflib.get_close_matches(user_song, songs_lower, 1, 0.5)\n",
    "print (x)"
   ]
  },
  {
   "cell_type": "code",
   "execution_count": null,
   "id": "9f48e8a1",
   "metadata": {},
   "outputs": [],
   "source": [
    "def song():\n",
    "    user_song = input()\n",
    "    \n",
    "    if str.lower(user_song) in songs_lower:\n",
    "        return(random.choice(songs_lower))\n",
    "    elif difflib.get_close_matches(user_song, songs_lower, 1, 0.5)!=[]:\n",
    "        print(random.choice(songs_lower))\n",
    "    else:\n",
    "        return \"Your song is not on the hot list\""
   ]
  },
  {
   "cell_type": "code",
   "execution_count": null,
   "id": "a29d52a3",
   "metadata": {},
   "outputs": [],
   "source": [
    "song()"
   ]
  },
  {
   "cell_type": "code",
   "execution_count": null,
   "id": "c96eb2ab",
   "metadata": {},
   "outputs": [],
   "source": [
    "song()"
   ]
  },
  {
   "cell_type": "code",
   "execution_count": null,
   "id": "721de9df",
   "metadata": {},
   "outputs": [],
   "source": []
  },
  {
   "cell_type": "code",
   "execution_count": null,
   "id": "563eb939",
   "metadata": {},
   "outputs": [],
   "source": []
  }
 ],
 "metadata": {
  "kernelspec": {
   "display_name": "Python 3 (ipykernel)",
   "language": "python",
   "name": "python3"
  },
  "language_info": {
   "codemirror_mode": {
    "name": "ipython",
    "version": 3
   },
   "file_extension": ".py",
   "mimetype": "text/x-python",
   "name": "python",
   "nbconvert_exporter": "python",
   "pygments_lexer": "ipython3",
   "version": "3.9.13"
  }
 },
 "nbformat": 4,
 "nbformat_minor": 5
}
