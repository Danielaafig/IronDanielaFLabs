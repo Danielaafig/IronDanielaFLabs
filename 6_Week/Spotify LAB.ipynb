{
 "cells": [
  {
   "cell_type": "code",
   "execution_count": 7,
   "id": "025677ef",
   "metadata": {},
   "outputs": [
    {
     "ename": "NameError",
     "evalue": "name 'config' is not defined",
     "output_type": "error",
     "traceback": [
      "\u001b[0;31m---------------------------------------------------------------------------\u001b[0m",
      "\u001b[0;31mNameError\u001b[0m                                 Traceback (most recent call last)",
      "\u001b[0;32m/var/folders/bf/g804lyk11mzbcbq0_z_x2qlc0000gn/T/ipykernel_43583/1450906592.py\u001b[0m in \u001b[0;36m<module>\u001b[0;34m\u001b[0m\n\u001b[1;32m      5\u001b[0m \u001b[0;34m\u001b[0m\u001b[0m\n\u001b[1;32m      6\u001b[0m \u001b[0;31m#Initialize SpotiPy with user credentias\u001b[0m\u001b[0;34m\u001b[0m\u001b[0;34m\u001b[0m\u001b[0m\n\u001b[0;32m----> 7\u001b[0;31m sp = spotipy.Spotify(auth_manager=SpotifyClientCredentials(client_id=config.client_id,\n\u001b[0m\u001b[1;32m      8\u001b[0m                                                            client_secret=config.client_secret))\n\u001b[1;32m      9\u001b[0m \u001b[0;34m\u001b[0m\u001b[0m\n",
      "\u001b[0;31mNameError\u001b[0m: name 'config' is not defined"
     ]
    }
   ],
   "source": [
    "import spotipy\n",
    "import json\n",
    "from spotipy.oauth2 import SpotifyClientCredentials\n",
    "\n",
    "\n",
    "#Initialize SpotiPy with user credentias\n",
    "sp = spotipy.Spotify(auth_manager=SpotifyClientCredentials(client_id=config.client_id,\n",
    "                                                           client_secret=config.client_secret))\n",
    "\n",
    "# The \"sp\" variable has two useful funtions:\n",
    "# The first usefull function is:\n",
    "# .search(q='',limit=n)\n",
    "# .search(q=\"track:\"+song_name+\" artist:\"+artist_name,limit=5) to restrict to a song name and artist.\n",
    "# Where the \"q\" keyword is the query you want to perform on spotify: song_name, artist,...\n",
    "# while The \"limit\" keyword will limit the number of returned results.\n",
    "#\n",
    "# The second usefull function is:\n",
    "# .audio_features([URL|URI|ID])\n",
    "# which returns some 'features of the song', that after cleanup, we can use in order to characterize a song.\n",
    "\n"
   ]
  },
  {
   "cell_type": "code",
   "execution_count": 2,
   "id": "cfc915c4",
   "metadata": {},
   "outputs": [
    {
     "ename": "NameError",
     "evalue": "name 'spotipy' is not defined",
     "output_type": "error",
     "traceback": [
      "\u001b[0;31m---------------------------------------------------------------------------\u001b[0m",
      "\u001b[0;31mNameError\u001b[0m                                 Traceback (most recent call last)",
      "\u001b[0;32m/var/folders/bf/g804lyk11mzbcbq0_z_x2qlc0000gn/T/ipykernel_43583/2879480561.py\u001b[0m in \u001b[0;36m<module>\u001b[0;34m\u001b[0m\n\u001b[0;32m----> 1\u001b[0;31m sp = spotipy.Spotify(auth_manager=SpotifyClientCredentials(client_id= config.client_id,\n\u001b[0m\u001b[1;32m      2\u001b[0m                                                            client_secret= config.client_secret))\n",
      "\u001b[0;31mNameError\u001b[0m: name 'spotipy' is not defined"
     ]
    }
   ],
   "source": [
    "results = sp.search(q=\"Lose yourself\",limit=3,market=\"GB\") #market is the country (GB as great britain). Limit to 3 results \n",
    "results\n",
    "#json_results = json.dumps(results, ensure_ascii=True)\n",
    "#json_results\n",
    "#results['tracks']['items'][0]['external_urls'][\"spotify\"]\n",
    "sp = spotipy.Spotify(auth_manager=SpotifyClientCredentials(client_id= config.client_id,\n",
    "                                                           client_secret= config.client_secret))"
   ]
  },
  {
   "cell_type": "code",
   "execution_count": null,
   "id": "5285e619",
   "metadata": {},
   "outputs": [],
   "source": []
  }
 ],
 "metadata": {
  "kernelspec": {
   "display_name": "Python 3 (ipykernel)",
   "language": "python",
   "name": "python3"
  },
  "language_info": {
   "codemirror_mode": {
    "name": "ipython",
    "version": 3
   },
   "file_extension": ".py",
   "mimetype": "text/x-python",
   "name": "python",
   "nbconvert_exporter": "python",
   "pygments_lexer": "ipython3",
   "version": "3.9.13"
  }
 },
 "nbformat": 4,
 "nbformat_minor": 5
}
