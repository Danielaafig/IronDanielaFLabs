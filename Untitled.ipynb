{
 "cells": [
  {
   "cell_type": "code",
   "execution_count": 2,
   "id": "1951c195",
   "metadata": {},
   "outputs": [
    {
     "name": "stdout",
     "output_type": "stream",
     "text": [
      "|"
     ]
    }
   ],
   "source": [
    "import sys\n"
   ]
  },
  {
   "cell_type": "code",
   "execution_count": 3,
   "id": "5ec4615a",
   "metadata": {},
   "outputs": [
    {
     "name": "stdout",
     "output_type": "stream",
     "text": [
      "|"
     ]
    }
   ],
   "source": [
    "from time import sleep\n",
    "\n",
    "for x in range(100):\n",
    "    if x%4==0:\n",
    "        sys.stdout.write(\"\\r/\")\n",
    "        sys.stdout.flush()\n",
    "    elif x%4==1:\n",
    "        sys.stdout.write(\"\\r-\")\n",
    "        sys.stdout.flush()\n",
    "    elif x%4==2:\n",
    "        sys.stdout.write(\"\\r\\\\\")\n",
    "        sys.stdout.flush()\n",
    "    elif x%4==3:\n",
    "        sys.stdout.write(\"\\r|\")\n",
    "        sys.stdout.flush()\n",
    "    sleep(0.1)"
   ]
  },
  {
   "cell_type": "code",
   "execution_count": null,
   "id": "f13e34c2",
   "metadata": {},
   "outputs": [],
   "source": []
  }
 ],
 "metadata": {
  "kernelspec": {
   "display_name": "Python 3 (ipykernel)",
   "language": "python",
   "name": "python3"
  },
  "language_info": {
   "codemirror_mode": {
    "name": "ipython",
    "version": 3
   },
   "file_extension": ".py",
   "mimetype": "text/x-python",
   "name": "python",
   "nbconvert_exporter": "python",
   "pygments_lexer": "ipython3",
   "version": "3.9.13"
  }
 },
 "nbformat": 4,
 "nbformat_minor": 5
}
